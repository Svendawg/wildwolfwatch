{
 "cells": [
  {
   "cell_type": "markdown",
   "metadata": {},
   "source": [
    "# Wild Wolf Watch Observations\n",
    "\n",
    "> Here’s a link to [our] project: https://www.zooniverse.org/projects/mlsmax/wild-wolf-watch, which focuses on classifying trap-camera photos from Eastern NC in order to get a better picture of the biological diversity after the reintroduction of critically endangered Red Wolves into the region (there’s a lot more you can read about the project on the site as well).\n",
    "\n",
    "> Basically, we’re running into trouble with the data exports from the website. Some of the columns have nested JSON that I would like to have unnested and use for data analysis.\n",
    "\n",
    "> I’ve gone ahead and attached an excel file of what our data exports right now look like. Essentially, what we’re looking for is all nested in the Annotations column.\n",
    "\n",
    "In this notebook, I'll show how to unpack the `annotations` column in the example dataset into a separate Pandas DataFrame. I'll also demonstrate how to join this new DataFrame with select columns from the original. \n",
    "\n",
    "Ultimately, I'd love to see the images rendered inline in the notebook next to the annotations, but I haven't found a way to reference the images using the subject IDs or filename in the dataset. Maybe there's more data available for export? Or a way to look up the image given a subject ID using the Zooniverse API?"
   ]
  },
  {
   "cell_type": "markdown",
   "metadata": {},
   "source": [
    "## Load the data"
   ]
  },
  {
   "cell_type": "code",
   "execution_count": 1,
   "metadata": {},
   "outputs": [],
   "source": [
    "import json\n",
    "import pandas as pd\n",
    "pd.options.display.max_colwidth = 1024"
   ]
  },
  {
   "cell_type": "markdown",
   "metadata": {},
   "source": [
    "The data sample is in the same folder as this notebook. I read it into a `pandas.DataFrame`."
   ]
  },
  {
   "cell_type": "code",
   "execution_count": 2,
   "metadata": {},
   "outputs": [],
   "source": [
    "raw_df = pd.read_csv('./wild-wolf-watch-classifications.csv')"
   ]
  },
  {
   "cell_type": "markdown",
   "metadata": {},
   "source": [
    "I need to get a sense of the data structure. Here I pull a sample of 5 rows. I run this notebook cell multiple times and note how the values different across rows."
   ]
  },
  {
   "cell_type": "code",
   "execution_count": 81,
   "metadata": {},
   "outputs": [
    {
     "data": {
      "text/html": [
       "<div>\n",
       "<style scoped>\n",
       "    .dataframe tbody tr th:only-of-type {\n",
       "        vertical-align: middle;\n",
       "    }\n",
       "\n",
       "    .dataframe tbody tr th {\n",
       "        vertical-align: top;\n",
       "    }\n",
       "\n",
       "    .dataframe thead th {\n",
       "        text-align: right;\n",
       "    }\n",
       "</style>\n",
       "<table border=\"1\" class=\"dataframe\">\n",
       "  <thead>\n",
       "    <tr style=\"text-align: right;\">\n",
       "      <th></th>\n",
       "      <th>classification_id</th>\n",
       "      <th>user_name</th>\n",
       "      <th>user_id</th>\n",
       "      <th>user_ip</th>\n",
       "      <th>workflow_id</th>\n",
       "      <th>workflow_name</th>\n",
       "      <th>workflow_version</th>\n",
       "      <th>created_at</th>\n",
       "      <th>gold_standard</th>\n",
       "      <th>expert</th>\n",
       "      <th>metadata</th>\n",
       "      <th>annotations</th>\n",
       "      <th>subject_data</th>\n",
       "      <th>subject_ids</th>\n",
       "    </tr>\n",
       "  </thead>\n",
       "  <tbody>\n",
       "    <tr>\n",
       "      <th>3228</th>\n",
       "      <td>78455663</td>\n",
       "      <td>not-logged-in-15759e250e28f051a923</td>\n",
       "      <td>NaN</td>\n",
       "      <td>15759e250e28f051a923</td>\n",
       "      <td>4466</td>\n",
       "      <td>Classify Motion-Activated Camera Pictures</td>\n",
       "      <td>47.58</td>\n",
       "      <td>2017-11-14 16:35:28 UTC</td>\n",
       "      <td>NaN</td>\n",
       "      <td>NaN</td>\n",
       "      <td>{\"session\":\"7e801f73cb80b5c7b800c2f2a5006132ca9cd53c01b036d7f03188e01debd6c4\",\"viewport\":{\"width\":1024,\"height\":672},\"started_at\":\"2017-11-14T16:35:19.881Z\",\"user_agent\":\"Mozilla/5.0 (iPad; CPU OS 10_3_3 like Mac OS X) AppleWebKit/603.3.8 (KHTML, like Gecko) Version/10.0 Mobile/14G60 Safari/602.1\",\"utc_offset\":\"18000\",\"finished_at\":\"2017-11-14T16:35:28.122Z\",\"live_project\":false,\"user_language\":\"en\",\"subject_dimensions\":[{\"clientWidth\":433,\"clientHeight\":244,\"naturalWidth\":1152,\"naturalHeight\":648}]}</td>\n",
       "      <td>[{\"task\":\"T0\",\"value\":[{\"choice\":\"BEAR\",\"answers\":{\"HOWMANY\":\"1\",\"WHATBEHAVIORSDOYOUSEE\":[\"INTERACTING\"],\"ARETHEREANYYOUNGPRESENT\":\"NO\"},\"filters\":{}}]}]</td>\n",
       "      <td>{\"10710121\":{\"retired\":null,\"Filename\":\"mfdc7677_28926515723_o.jpg\"}}</td>\n",
       "      <td>10710121</td>\n",
       "    </tr>\n",
       "    <tr>\n",
       "      <th>4071</th>\n",
       "      <td>85802169</td>\n",
       "      <td>BetsyK</td>\n",
       "      <td>1684331.0</td>\n",
       "      <td>999ceeb88c16b8bda6e0</td>\n",
       "      <td>4466</td>\n",
       "      <td>Classify Motion-Activated Camera Pictures</td>\n",
       "      <td>47.58</td>\n",
       "      <td>2018-01-13 17:05:34 UTC</td>\n",
       "      <td>NaN</td>\n",
       "      <td>NaN</td>\n",
       "      <td>{\"session\":\"7880b822927769e85a0dd5e9b992f922e62ed4a1dfd5ff497ef8e197ade64f19\",\"viewport\":{\"width\":678,\"height\":483},\"started_at\":\"2018-01-13T17:04:59.754Z\",\"user_agent\":\"Mozilla/5.0 (iPad; CPU OS 11_0_2 like Mac OS X) AppleWebKit/604.1.38 (KHTML, like Gecko) Version/11.0 Mobile/15A421 Safari/604.1\",\"utc_offset\":\"18000\",\"finished_at\":\"2018-01-13T17:05:34.381Z\",\"live_project\":false,\"user_language\":\"en\",\"user_group_ids\":[],\"subject_dimensions\":[{\"clientWidth\":433,\"clientHeight\":244,\"naturalWidth\":1152,\"naturalHeight\":648}]}</td>\n",
       "      <td>[{\"task\":\"T0\",\"value\":[{\"choice\":\"DEER\",\"answers\":{\"HOWMANY\":\"1\",\"WHATBEHAVIORSDOYOUSEE\":[\"EATING\"],\"ARETHEREANYYOUNGPRESENT\":\"NO\"},\"filters\":{}}]}]</td>\n",
       "      <td>{\"10722963\":{\"retired\":null,\"Filename\":\"MFDC3589.jpg\"}}</td>\n",
       "      <td>10722963</td>\n",
       "    </tr>\n",
       "    <tr>\n",
       "      <th>700</th>\n",
       "      <td>70128878</td>\n",
       "      <td>Katy_H</td>\n",
       "      <td>1679909.0</td>\n",
       "      <td>bf882cda7a78bb06f7e7</td>\n",
       "      <td>4466</td>\n",
       "      <td>Classify Motion-Activated Camera Pictures</td>\n",
       "      <td>47.58</td>\n",
       "      <td>2017-09-13 00:19:42 UTC</td>\n",
       "      <td>NaN</td>\n",
       "      <td>NaN</td>\n",
       "      <td>{\"session\":\"8b04e40307417a5c1c681c20622abc369f686fa15f49c49e1379645bd2e9304e\",\"viewport\":{\"width\":414,\"height\":696},\"started_at\":\"2017-09-13T00:19:38.817Z\",\"user_agent\":\"Mozilla/5.0 (iPhone; CPU iPhone OS 10_3_3 like Mac OS X) AppleWebKit/603.3.8 (KHTML, like Gecko) Version/10.0 Mobile/14G60 Safari/602.1\",\"utc_offset\":\"14400\",\"finished_at\":\"2017-09-13T00:19:42.694Z\",\"live_project\":false,\"user_language\":\"en\",\"user_group_ids\":[],\"subject_dimensions\":[{\"clientWidth\":389,\"clientHeight\":219,\"naturalWidth\":1152,\"naturalHeight\":648}]}</td>\n",
       "      <td>[{\"task\":\"T0\",\"value\":[{\"choice\":\"IMNOTSURE\",\"answers\":{},\"filters\":{}}]}]</td>\n",
       "      <td>{\"10710452\":{\"retired\":null,\"Filename\":\"mfdc8793_34291388883_o.jpg\"}}</td>\n",
       "      <td>10710452</td>\n",
       "    </tr>\n",
       "    <tr>\n",
       "      <th>1309</th>\n",
       "      <td>73865141</td>\n",
       "      <td>not-logged-in-2d82cb35f742f2da4e42</td>\n",
       "      <td>NaN</td>\n",
       "      <td>2d82cb35f742f2da4e42</td>\n",
       "      <td>4466</td>\n",
       "      <td>Classify Motion-Activated Camera Pictures</td>\n",
       "      <td>47.58</td>\n",
       "      <td>2017-10-10 17:18:59 UTC</td>\n",
       "      <td>NaN</td>\n",
       "      <td>NaN</td>\n",
       "      <td>{\"session\":\"a5e5689f301d7dab49e369b1f3e7406003dbf3f9e629b3c0ba21f16c7b3321c3\",\"viewport\":{\"width\":1024,\"height\":704},\"started_at\":\"2017-10-10T17:18:48.332Z\",\"user_agent\":\"Mozilla/5.0 (iPad; CPU OS 10_3_3 like Mac OS X) AppleWebKit/603.3.8 (KHTML, like Gecko) Version/10.0 Mobile/14G60 Safari/602.1\",\"utc_offset\":\"14400\",\"finished_at\":\"2017-10-10T17:18:59.213Z\",\"live_project\":false,\"user_language\":\"en\",\"subject_dimensions\":[{\"clientWidth\":433,\"clientHeight\":244,\"naturalWidth\":1152,\"naturalHeight\":648}]}</td>\n",
       "      <td>[{\"task\":\"T0\",\"value\":[{\"choice\":\"BEAR\",\"answers\":{\"HOWMANY\":\"1\",\"WHATBEHAVIORSDOYOUSEE\":[\"MOVING\"],\"ARETHEREANYYOUNGPRESENT\":\"NO\"},\"filters\":{}}]}]</td>\n",
       "      <td>{\"10710671\":{\"retired\":null,\"Filename\":\"mfdc9246_34936937572_o.jpg\"}}</td>\n",
       "      <td>10710671</td>\n",
       "    </tr>\n",
       "    <tr>\n",
       "      <th>27</th>\n",
       "      <td>62756504</td>\n",
       "      <td>mlsmax</td>\n",
       "      <td>1666654.0</td>\n",
       "      <td>2d82cb35f742f2da4e42</td>\n",
       "      <td>4466</td>\n",
       "      <td>Classify Motion-Activated Camera Pictures</td>\n",
       "      <td>42.56</td>\n",
       "      <td>2017-07-07 19:35:17 UTC</td>\n",
       "      <td>NaN</td>\n",
       "      <td>NaN</td>\n",
       "      <td>{\"session\":\"5fcfdc2f59d2807cc8d2782c949aacf16a96b67edfc0c6d1ed2093142e4cfaac\",\"viewport\":{\"width\":1536,\"height\":759},\"started_at\":\"2017-07-07T19:35:12.556Z\",\"user_agent\":\"Mozilla/5.0 (Windows NT 10.0; Win64; x64) AppleWebKit/537.36 (KHTML, like Gecko) Chrome/59.0.3071.115 Safari/537.36\",\"utc_offset\":\"14400\",\"finished_at\":\"2017-07-07T19:35:17.584Z\",\"live_project\":false,\"user_language\":\"en\",\"user_group_ids\":[],\"subject_dimensions\":[{\"clientWidth\":898,\"clientHeight\":505,\"naturalWidth\":1152,\"naturalHeight\":648}]}</td>\n",
       "      <td>[{\"task\":\"T0\",\"value\":[{\"choice\":\"IMNOTSURE\",\"answers\":{},\"filters\":{}}]}]</td>\n",
       "      <td>{\"10710612\":{\"retired\":null,\"Filename\":\"mfdc9137_34291418403_o.jpg\"}}</td>\n",
       "      <td>10710612</td>\n",
       "    </tr>\n",
       "  </tbody>\n",
       "</table>\n",
       "</div>"
      ],
      "text/plain": [
       "      classification_id                           user_name    user_id  \\\n",
       "3228           78455663  not-logged-in-15759e250e28f051a923        NaN   \n",
       "4071           85802169                              BetsyK  1684331.0   \n",
       "700            70128878                              Katy_H  1679909.0   \n",
       "1309           73865141  not-logged-in-2d82cb35f742f2da4e42        NaN   \n",
       "27             62756504                              mlsmax  1666654.0   \n",
       "\n",
       "                   user_ip  workflow_id  \\\n",
       "3228  15759e250e28f051a923         4466   \n",
       "4071  999ceeb88c16b8bda6e0         4466   \n",
       "700   bf882cda7a78bb06f7e7         4466   \n",
       "1309  2d82cb35f742f2da4e42         4466   \n",
       "27    2d82cb35f742f2da4e42         4466   \n",
       "\n",
       "                                  workflow_name  workflow_version  \\\n",
       "3228  Classify Motion-Activated Camera Pictures             47.58   \n",
       "4071  Classify Motion-Activated Camera Pictures             47.58   \n",
       "700   Classify Motion-Activated Camera Pictures             47.58   \n",
       "1309  Classify Motion-Activated Camera Pictures             47.58   \n",
       "27    Classify Motion-Activated Camera Pictures             42.56   \n",
       "\n",
       "                   created_at  gold_standard  expert  \\\n",
       "3228  2017-11-14 16:35:28 UTC            NaN     NaN   \n",
       "4071  2018-01-13 17:05:34 UTC            NaN     NaN   \n",
       "700   2017-09-13 00:19:42 UTC            NaN     NaN   \n",
       "1309  2017-10-10 17:18:59 UTC            NaN     NaN   \n",
       "27    2017-07-07 19:35:17 UTC            NaN     NaN   \n",
       "\n",
       "                                                                                                                                                                                                                                                                                                                                                                                                                                                                                                                                                   metadata  \\\n",
       "3228                              {\"session\":\"7e801f73cb80b5c7b800c2f2a5006132ca9cd53c01b036d7f03188e01debd6c4\",\"viewport\":{\"width\":1024,\"height\":672},\"started_at\":\"2017-11-14T16:35:19.881Z\",\"user_agent\":\"Mozilla/5.0 (iPad; CPU OS 10_3_3 like Mac OS X) AppleWebKit/603.3.8 (KHTML, like Gecko) Version/10.0 Mobile/14G60 Safari/602.1\",\"utc_offset\":\"18000\",\"finished_at\":\"2017-11-14T16:35:28.122Z\",\"live_project\":false,\"user_language\":\"en\",\"subject_dimensions\":[{\"clientWidth\":433,\"clientHeight\":244,\"naturalWidth\":1152,\"naturalHeight\":648}]}   \n",
       "4071         {\"session\":\"7880b822927769e85a0dd5e9b992f922e62ed4a1dfd5ff497ef8e197ade64f19\",\"viewport\":{\"width\":678,\"height\":483},\"started_at\":\"2018-01-13T17:04:59.754Z\",\"user_agent\":\"Mozilla/5.0 (iPad; CPU OS 11_0_2 like Mac OS X) AppleWebKit/604.1.38 (KHTML, like Gecko) Version/11.0 Mobile/15A421 Safari/604.1\",\"utc_offset\":\"18000\",\"finished_at\":\"2018-01-13T17:05:34.381Z\",\"live_project\":false,\"user_language\":\"en\",\"user_group_ids\":[],\"subject_dimensions\":[{\"clientWidth\":433,\"clientHeight\":244,\"naturalWidth\":1152,\"naturalHeight\":648}]}   \n",
       "700   {\"session\":\"8b04e40307417a5c1c681c20622abc369f686fa15f49c49e1379645bd2e9304e\",\"viewport\":{\"width\":414,\"height\":696},\"started_at\":\"2017-09-13T00:19:38.817Z\",\"user_agent\":\"Mozilla/5.0 (iPhone; CPU iPhone OS 10_3_3 like Mac OS X) AppleWebKit/603.3.8 (KHTML, like Gecko) Version/10.0 Mobile/14G60 Safari/602.1\",\"utc_offset\":\"14400\",\"finished_at\":\"2017-09-13T00:19:42.694Z\",\"live_project\":false,\"user_language\":\"en\",\"user_group_ids\":[],\"subject_dimensions\":[{\"clientWidth\":389,\"clientHeight\":219,\"naturalWidth\":1152,\"naturalHeight\":648}]}   \n",
       "1309                              {\"session\":\"a5e5689f301d7dab49e369b1f3e7406003dbf3f9e629b3c0ba21f16c7b3321c3\",\"viewport\":{\"width\":1024,\"height\":704},\"started_at\":\"2017-10-10T17:18:48.332Z\",\"user_agent\":\"Mozilla/5.0 (iPad; CPU OS 10_3_3 like Mac OS X) AppleWebKit/603.3.8 (KHTML, like Gecko) Version/10.0 Mobile/14G60 Safari/602.1\",\"utc_offset\":\"14400\",\"finished_at\":\"2017-10-10T17:18:59.213Z\",\"live_project\":false,\"user_language\":\"en\",\"subject_dimensions\":[{\"clientWidth\":433,\"clientHeight\":244,\"naturalWidth\":1152,\"naturalHeight\":648}]}   \n",
       "27                       {\"session\":\"5fcfdc2f59d2807cc8d2782c949aacf16a96b67edfc0c6d1ed2093142e4cfaac\",\"viewport\":{\"width\":1536,\"height\":759},\"started_at\":\"2017-07-07T19:35:12.556Z\",\"user_agent\":\"Mozilla/5.0 (Windows NT 10.0; Win64; x64) AppleWebKit/537.36 (KHTML, like Gecko) Chrome/59.0.3071.115 Safari/537.36\",\"utc_offset\":\"14400\",\"finished_at\":\"2017-07-07T19:35:17.584Z\",\"live_project\":false,\"user_language\":\"en\",\"user_group_ids\":[],\"subject_dimensions\":[{\"clientWidth\":898,\"clientHeight\":505,\"naturalWidth\":1152,\"naturalHeight\":648}]}   \n",
       "\n",
       "                                                                                                                                                    annotations  \\\n",
       "3228  [{\"task\":\"T0\",\"value\":[{\"choice\":\"BEAR\",\"answers\":{\"HOWMANY\":\"1\",\"WHATBEHAVIORSDOYOUSEE\":[\"INTERACTING\"],\"ARETHEREANYYOUNGPRESENT\":\"NO\"},\"filters\":{}}]}]   \n",
       "4071       [{\"task\":\"T0\",\"value\":[{\"choice\":\"DEER\",\"answers\":{\"HOWMANY\":\"1\",\"WHATBEHAVIORSDOYOUSEE\":[\"EATING\"],\"ARETHEREANYYOUNGPRESENT\":\"NO\"},\"filters\":{}}]}]   \n",
       "700                                                                                  [{\"task\":\"T0\",\"value\":[{\"choice\":\"IMNOTSURE\",\"answers\":{},\"filters\":{}}]}]   \n",
       "1309       [{\"task\":\"T0\",\"value\":[{\"choice\":\"BEAR\",\"answers\":{\"HOWMANY\":\"1\",\"WHATBEHAVIORSDOYOUSEE\":[\"MOVING\"],\"ARETHEREANYYOUNGPRESENT\":\"NO\"},\"filters\":{}}]}]   \n",
       "27                                                                                   [{\"task\":\"T0\",\"value\":[{\"choice\":\"IMNOTSURE\",\"answers\":{},\"filters\":{}}]}]   \n",
       "\n",
       "                                                               subject_data  \\\n",
       "3228  {\"10710121\":{\"retired\":null,\"Filename\":\"mfdc7677_28926515723_o.jpg\"}}   \n",
       "4071                {\"10722963\":{\"retired\":null,\"Filename\":\"MFDC3589.jpg\"}}   \n",
       "700   {\"10710452\":{\"retired\":null,\"Filename\":\"mfdc8793_34291388883_o.jpg\"}}   \n",
       "1309  {\"10710671\":{\"retired\":null,\"Filename\":\"mfdc9246_34936937572_o.jpg\"}}   \n",
       "27    {\"10710612\":{\"retired\":null,\"Filename\":\"mfdc9137_34291418403_o.jpg\"}}   \n",
       "\n",
       "      subject_ids  \n",
       "3228     10710121  \n",
       "4071     10722963  \n",
       "700      10710452  \n",
       "1309     10710671  \n",
       "27       10710612  "
      ]
     },
     "execution_count": 81,
     "metadata": {},
     "output_type": "execute_result"
    }
   ],
   "source": [
    "raw_df.sample(5)"
   ]
  },
  {
   "cell_type": "markdown",
   "metadata": {},
   "source": [
    "## Limit to the newest version"
   ]
  },
  {
   "cell_type": "markdown",
   "metadata": {},
   "source": [
    "The structure of the JSON in the `annotation` column appears to vary greatly with `workflow_version`. I assume this means the setup of the questionnaire on the Zooniverse site has evolved over time. I wonder how many different versions there are?"
   ]
  },
  {
   "cell_type": "code",
   "execution_count": 30,
   "metadata": {},
   "outputs": [
    {
     "data": {
      "text/plain": [
       "47.58    4484\n",
       "44.57      89\n",
       "42.56      14\n",
       "34.50      12\n",
       "43.57       6\n",
       "36.52       4\n",
       "41.55       2\n",
       "Name: workflow_version, dtype: int64"
      ]
     },
     "execution_count": 30,
     "metadata": {},
     "output_type": "execute_result"
    }
   ],
   "source": [
    "raw_df.workflow_version.value_counts()"
   ]
  },
  {
   "cell_type": "markdown",
   "metadata": {},
   "source": [
    "The vast majority of the rows are associated with version 47.58. I am going to focus on this version to keep the data transformations simple for now. (I can always come back and deal with the other rows later, if neccessary.)"
   ]
  },
  {
   "cell_type": "code",
   "execution_count": 31,
   "metadata": {},
   "outputs": [],
   "source": [
    "latest_df = raw_df[raw_df.workflow_version == 47.58].copy()"
   ]
  },
  {
   "cell_type": "markdown",
   "metadata": {},
   "source": [
    "## Unnest the annotations JSON"
   ]
  },
  {
   "cell_type": "markdown",
   "metadata": {},
   "source": [
    "The `annotations` column appears to hold the responses from users (i.e., annotators) about subjects (i.e., camera images). The responses are in JSON format with the key information in a `value` list which may have multiple elements. Here's one example, indented and with comments for readability:\n",
    "\n",
    "```\n",
    "[\n",
    "  {\n",
    "    \"task\":\"T0\",                                 # all entries have just one task at the moment\n",
    "    \"value\": [                                   # multiple annotations per camera image are possible\n",
    "      {\n",
    "        \"choice\": \"BEAR\",                        # what the user sees in the picture\n",
    "        \"answers\": {                             # follow on questions based the \"choice\"\n",
    "          \"HOWMANY\":\"1\",                         # note this is a string, not an int\n",
    "          \"WHATBEHAVIORSDOYOUSEE\": [\"STANDING\"], # can have multiple values\n",
    "          \"ARETHEREANYYOUNGPRESENT\":\"NO\"\n",
    "        },\n",
    "        \"filters\": {}\n",
    "      }\n",
    "    ]\n",
    "  }\n",
    "]\n",
    "```"
   ]
  },
  {
   "cell_type": "markdown",
   "metadata": {},
   "source": [
    "I can unnest this column into its own DataFrame. Since there can be multiple annotations per subject (i.e., row in the original table), I need to include a key that can link the annotations DataFrame with the original. The `classification_id` column looks like a reasonable choice. I need to make sure it's unique across all rows first."
   ]
  },
  {
   "cell_type": "code",
   "execution_count": 32,
   "metadata": {},
   "outputs": [
    {
     "data": {
      "text/plain": [
       "True"
      ]
     },
     "execution_count": 32,
     "metadata": {},
     "output_type": "execute_result"
    }
   ],
   "source": [
    "latest_df.classification_id.nunique() == len(latest_df)"
   ]
  },
  {
   "cell_type": "markdown",
   "metadata": {},
   "source": [
    "Perfect.\n",
    "\n",
    "There is a handy function, `pandas.io.json.json_normalize`, that can do the heavy lifting of exploding a list of JSON objects into a DataFrame. I need to do some prep work for it to work properly.\n",
    "\n",
    "First, I need to decode the JSON strings in the `annotations` column into real Python objects (e.g., lists, dictionaries, etc.) and make sure every row has just one Python dictionary (i.e., a single task). As I noted above, it looks like there's a single task per row at present, so all I need to do here is validate that assumption and fetch the first task list element."
   ]
  },
  {
   "cell_type": "code",
   "execution_count": 33,
   "metadata": {},
   "outputs": [],
   "source": [
    "def load_json(value):\n",
    "    \"\"\"Decodes a JSON string, asserts there is exactly one element in the decoded\n",
    "    list, and returns that one element.\n",
    "    \"\"\"\n",
    "    tasks = json.loads(value)\n",
    "    assert len(tasks) == 1\n",
    "    return tasks[0]"
   ]
  },
  {
   "cell_type": "markdown",
   "metadata": {},
   "source": [
    "I apply my `load_json` function to the `annotations` column and overwrite the `annotations` column in the DataFrame with the resulting series. If I get an exception here, I know my assumption about a single task per row is incorrect."
   ]
  },
  {
   "cell_type": "code",
   "execution_count": 34,
   "metadata": {},
   "outputs": [],
   "source": [
    "latest_df['annotations'] = latest_df.annotations.apply(load_json)"
   ]
  },
  {
   "cell_type": "markdown",
   "metadata": {},
   "source": [
    "Here's what I now see in `annotations."
   ]
  },
  {
   "cell_type": "code",
   "execution_count": 35,
   "metadata": {},
   "outputs": [
    {
     "data": {
      "text/plain": [
       "127    {'task': 'T0', 'value': [{'choice': 'IMNOTSURE', 'answers': {}, 'filters': {}}]}\n",
       "Name: annotations, dtype: object"
      ]
     },
     "execution_count": 35,
     "metadata": {},
     "output_type": "execute_result"
    }
   ],
   "source": [
    "latest_df.annotations.head(1)"
   ]
  },
  {
   "cell_type": "markdown",
   "metadata": {},
   "source": [
    "Next, I need to insert the `classification_id` in the `task` dictionary stored in the `annotation` column. I need to do this so because the `json_normalize` function only operates on the content of this column, not the surrounding DataFrame."
   ]
  },
  {
   "cell_type": "code",
   "execution_count": 39,
   "metadata": {},
   "outputs": [],
   "source": [
    "def id_annotation(row):\n",
    "    \"\"\"Duplicates the row to avoid modifying the original in place, \n",
    "    adds the value of the classification_id column to the dictionary\n",
    "    in the annotations column, and returns the new row.\n",
    "    \"\"\"\n",
    "    # not strictly necessary, but keeps the original row / dataframe untouched\n",
    "    # immutability is good!\n",
    "    new_row = row.copy()\n",
    "    new_row['annotations']['classification_id'] = new_row['classification_id']\n",
    "    return new_row"
   ]
  },
  {
   "cell_type": "markdown",
   "metadata": {},
   "source": [
    "I apply my `id_annotation` function to the rows of the DataFrame."
   ]
  },
  {
   "cell_type": "code",
   "execution_count": 37,
   "metadata": {},
   "outputs": [],
   "source": [
    "latest_df = latest_df.apply(id_annotation, axis=1)"
   ]
  },
  {
   "cell_type": "markdown",
   "metadata": {},
   "source": [
    "Now I can use the `json_normalize` function explode the `annotation` dictionaries into their own DataFrame. I pass it the `annotations` column, indicate that the `value` list contains the data of interest, and note that it should retain the `classification_id` as metadata associated with each annotation row."
   ]
  },
  {
   "cell_type": "code",
   "execution_count": 50,
   "metadata": {},
   "outputs": [
    {
     "data": {
      "text/html": [
       "<div>\n",
       "<style scoped>\n",
       "    .dataframe tbody tr th:only-of-type {\n",
       "        vertical-align: middle;\n",
       "    }\n",
       "\n",
       "    .dataframe tbody tr th {\n",
       "        vertical-align: top;\n",
       "    }\n",
       "\n",
       "    .dataframe thead th {\n",
       "        text-align: right;\n",
       "    }\n",
       "</style>\n",
       "<table border=\"1\" class=\"dataframe\">\n",
       "  <thead>\n",
       "    <tr style=\"text-align: right;\">\n",
       "      <th></th>\n",
       "      <th>answers</th>\n",
       "      <th>choice</th>\n",
       "      <th>filters</th>\n",
       "      <th>classification_id</th>\n",
       "    </tr>\n",
       "  </thead>\n",
       "  <tbody>\n",
       "    <tr>\n",
       "      <th>4524</th>\n",
       "      <td>{}</td>\n",
       "      <td>NOTHINGHERE</td>\n",
       "      <td>{}</td>\n",
       "      <td>87927318</td>\n",
       "    </tr>\n",
       "    <tr>\n",
       "      <th>4525</th>\n",
       "      <td>{'HOWMANY': '1', 'WHATBEHAVIORSDOYOUSEE': ['STANDING'], 'ARETHEREANYYOUNGPRESENT': 'NO'}</td>\n",
       "      <td>BEAR</td>\n",
       "      <td>{}</td>\n",
       "      <td>87927343</td>\n",
       "    </tr>\n",
       "    <tr>\n",
       "      <th>4526</th>\n",
       "      <td>{'HOWMANY': '1', 'WHATBEHAVIORSDOYOUSEE': ['MOVING'], 'ARETHEREANYYOUNGPRESENT': 'NO'}</td>\n",
       "      <td>DEER</td>\n",
       "      <td>{}</td>\n",
       "      <td>87927361</td>\n",
       "    </tr>\n",
       "    <tr>\n",
       "      <th>4527</th>\n",
       "      <td>{'HOWMANY': '1', 'WHATBEHAVIORSDOYOUSEE': ['MOVING'], 'ARETHEREANYYOUNGPRESENT': 'NO'}</td>\n",
       "      <td>LARGEBIRD</td>\n",
       "      <td>{}</td>\n",
       "      <td>87927425</td>\n",
       "    </tr>\n",
       "    <tr>\n",
       "      <th>4528</th>\n",
       "      <td>{}</td>\n",
       "      <td>IMNOTSURE</td>\n",
       "      <td>{}</td>\n",
       "      <td>87927435</td>\n",
       "    </tr>\n",
       "  </tbody>\n",
       "</table>\n",
       "</div>"
      ],
      "text/plain": [
       "                                                                                       answers  \\\n",
       "4524                                                                                        {}   \n",
       "4525  {'HOWMANY': '1', 'WHATBEHAVIORSDOYOUSEE': ['STANDING'], 'ARETHEREANYYOUNGPRESENT': 'NO'}   \n",
       "4526    {'HOWMANY': '1', 'WHATBEHAVIORSDOYOUSEE': ['MOVING'], 'ARETHEREANYYOUNGPRESENT': 'NO'}   \n",
       "4527    {'HOWMANY': '1', 'WHATBEHAVIORSDOYOUSEE': ['MOVING'], 'ARETHEREANYYOUNGPRESENT': 'NO'}   \n",
       "4528                                                                                        {}   \n",
       "\n",
       "           choice filters  classification_id  \n",
       "4524  NOTHINGHERE      {}           87927318  \n",
       "4525         BEAR      {}           87927343  \n",
       "4526         DEER      {}           87927361  \n",
       "4527    LARGEBIRD      {}           87927425  \n",
       "4528    IMNOTSURE      {}           87927435  "
      ]
     },
     "execution_count": 50,
     "metadata": {},
     "output_type": "execute_result"
    }
   ],
   "source": [
    "raw_annotations_df = pd.io.json.json_normalize(latest_df.annotations, record_path='value', meta='classification_id')\n",
    "raw_annotations_df.tail(5)"
   ]
  },
  {
   "cell_type": "markdown",
   "metadata": {},
   "source": [
    "Better, but I'd really like the dictionaries in the new `answers` column to be columns of their own. I need to apply the `json_normalize` function yet again."
   ]
  },
  {
   "cell_type": "code",
   "execution_count": 51,
   "metadata": {},
   "outputs": [
    {
     "data": {
      "text/html": [
       "<div>\n",
       "<style scoped>\n",
       "    .dataframe tbody tr th:only-of-type {\n",
       "        vertical-align: middle;\n",
       "    }\n",
       "\n",
       "    .dataframe tbody tr th {\n",
       "        vertical-align: top;\n",
       "    }\n",
       "\n",
       "    .dataframe thead th {\n",
       "        text-align: right;\n",
       "    }\n",
       "</style>\n",
       "<table border=\"1\" class=\"dataframe\">\n",
       "  <thead>\n",
       "    <tr style=\"text-align: right;\">\n",
       "      <th></th>\n",
       "      <th>ARETHEREANYYOUNGPRESENT</th>\n",
       "      <th>HOWMANY</th>\n",
       "      <th>WHATBEHAVIORSDOYOUSEE</th>\n",
       "    </tr>\n",
       "  </thead>\n",
       "  <tbody>\n",
       "    <tr>\n",
       "      <th>4524</th>\n",
       "      <td>NaN</td>\n",
       "      <td>NaN</td>\n",
       "      <td>NaN</td>\n",
       "    </tr>\n",
       "    <tr>\n",
       "      <th>4525</th>\n",
       "      <td>NO</td>\n",
       "      <td>1</td>\n",
       "      <td>[STANDING]</td>\n",
       "    </tr>\n",
       "    <tr>\n",
       "      <th>4526</th>\n",
       "      <td>NO</td>\n",
       "      <td>1</td>\n",
       "      <td>[MOVING]</td>\n",
       "    </tr>\n",
       "    <tr>\n",
       "      <th>4527</th>\n",
       "      <td>NO</td>\n",
       "      <td>1</td>\n",
       "      <td>[MOVING]</td>\n",
       "    </tr>\n",
       "    <tr>\n",
       "      <th>4528</th>\n",
       "      <td>NaN</td>\n",
       "      <td>NaN</td>\n",
       "      <td>NaN</td>\n",
       "    </tr>\n",
       "  </tbody>\n",
       "</table>\n",
       "</div>"
      ],
      "text/plain": [
       "     ARETHEREANYYOUNGPRESENT HOWMANY WHATBEHAVIORSDOYOUSEE\n",
       "4524                     NaN     NaN                   NaN\n",
       "4525                      NO       1            [STANDING]\n",
       "4526                      NO       1              [MOVING]\n",
       "4527                      NO       1              [MOVING]\n",
       "4528                     NaN     NaN                   NaN"
      ]
     },
     "execution_count": 51,
     "metadata": {},
     "output_type": "execute_result"
    }
   ],
   "source": [
    "answers_df = pd.io.json.json_normalize(annotations_df.answers.tolist())\n",
    "answers_df.tail(5)"
   ]
  },
  {
   "cell_type": "markdown",
   "metadata": {},
   "source": [
    "Even better. I'm OK with the lists in the `WHATBEHAVIORSDOYOUSEE` column for the moment. I can turn them into separate boolean indicator columns, if warranted.\n",
    "\n",
    "Right now, I want the `raw_annotations_df` and `answers_df` combined into a single DataFrame. Since I know there is exactly one dictionary in the `answers` column per choice, I can merge the two DataFrames based on the simple interger index."
   ]
  },
  {
   "cell_type": "code",
   "execution_count": 56,
   "metadata": {},
   "outputs": [
    {
     "data": {
      "text/html": [
       "<div>\n",
       "<style scoped>\n",
       "    .dataframe tbody tr th:only-of-type {\n",
       "        vertical-align: middle;\n",
       "    }\n",
       "\n",
       "    .dataframe tbody tr th {\n",
       "        vertical-align: top;\n",
       "    }\n",
       "\n",
       "    .dataframe thead th {\n",
       "        text-align: right;\n",
       "    }\n",
       "</style>\n",
       "<table border=\"1\" class=\"dataframe\">\n",
       "  <thead>\n",
       "    <tr style=\"text-align: right;\">\n",
       "      <th></th>\n",
       "      <th>choice</th>\n",
       "      <th>filters</th>\n",
       "      <th>classification_id</th>\n",
       "      <th>ARETHEREANYYOUNGPRESENT</th>\n",
       "      <th>HOWMANY</th>\n",
       "      <th>WHATBEHAVIORSDOYOUSEE</th>\n",
       "    </tr>\n",
       "  </thead>\n",
       "  <tbody>\n",
       "    <tr>\n",
       "      <th>4524</th>\n",
       "      <td>NOTHINGHERE</td>\n",
       "      <td>{}</td>\n",
       "      <td>87927318</td>\n",
       "      <td>NaN</td>\n",
       "      <td>NaN</td>\n",
       "      <td>NaN</td>\n",
       "    </tr>\n",
       "    <tr>\n",
       "      <th>4525</th>\n",
       "      <td>BEAR</td>\n",
       "      <td>{}</td>\n",
       "      <td>87927343</td>\n",
       "      <td>NO</td>\n",
       "      <td>1</td>\n",
       "      <td>[STANDING]</td>\n",
       "    </tr>\n",
       "    <tr>\n",
       "      <th>4526</th>\n",
       "      <td>DEER</td>\n",
       "      <td>{}</td>\n",
       "      <td>87927361</td>\n",
       "      <td>NO</td>\n",
       "      <td>1</td>\n",
       "      <td>[MOVING]</td>\n",
       "    </tr>\n",
       "    <tr>\n",
       "      <th>4527</th>\n",
       "      <td>LARGEBIRD</td>\n",
       "      <td>{}</td>\n",
       "      <td>87927425</td>\n",
       "      <td>NO</td>\n",
       "      <td>1</td>\n",
       "      <td>[MOVING]</td>\n",
       "    </tr>\n",
       "    <tr>\n",
       "      <th>4528</th>\n",
       "      <td>IMNOTSURE</td>\n",
       "      <td>{}</td>\n",
       "      <td>87927435</td>\n",
       "      <td>NaN</td>\n",
       "      <td>NaN</td>\n",
       "      <td>NaN</td>\n",
       "    </tr>\n",
       "  </tbody>\n",
       "</table>\n",
       "</div>"
      ],
      "text/plain": [
       "           choice filters  classification_id ARETHEREANYYOUNGPRESENT HOWMANY  \\\n",
       "4524  NOTHINGHERE      {}           87927318                     NaN     NaN   \n",
       "4525         BEAR      {}           87927343                      NO       1   \n",
       "4526         DEER      {}           87927361                      NO       1   \n",
       "4527    LARGEBIRD      {}           87927425                      NO       1   \n",
       "4528    IMNOTSURE      {}           87927435                     NaN     NaN   \n",
       "\n",
       "     WHATBEHAVIORSDOYOUSEE  \n",
       "4524                   NaN  \n",
       "4525            [STANDING]  \n",
       "4526              [MOVING]  \n",
       "4527              [MOVING]  \n",
       "4528                   NaN  "
      ]
     },
     "execution_count": 56,
     "metadata": {},
     "output_type": "execute_result"
    }
   ],
   "source": [
    "annotations_df = pd.merge(raw_annotations_df.drop('answers', axis=1), answers_df, left_index=True, right_index=True)\n",
    "annotations_df.tail(5)"
   ]
  },
  {
   "cell_type": "markdown",
   "metadata": {},
   "source": [
    "I noted above that the `HOWMANY` was stored as a string in the original JSON. I can't turn that column into integers if I want to preserve the NaNs for non-responses, but I can use floats."
   ]
  },
  {
   "cell_type": "code",
   "execution_count": 95,
   "metadata": {},
   "outputs": [],
   "source": [
    "annotations_df['HOWMANY'] = annotations_df.HOWMANY.astype(float)"
   ]
  },
  {
   "cell_type": "markdown",
   "metadata": {},
   "source": [
    "I see only empty dictionaries in the `filters` column. Do I really need to keep it?"
   ]
  },
  {
   "cell_type": "code",
   "execution_count": 71,
   "metadata": {},
   "outputs": [
    {
     "data": {
      "text/plain": [
       "True"
      ]
     },
     "execution_count": 71,
     "metadata": {},
     "output_type": "execute_result"
    }
   ],
   "source": [
    "annotations_df.filters.apply(lambda x: len(x) == 0).all()"
   ]
  },
  {
   "cell_type": "markdown",
   "metadata": {},
   "source": [
    "Nope.\n",
    "\n",
    "With that in mind, I want to perform the following bits of cleanup before declaring victory.\n",
    "\n",
    "* Rename the ALLCAPS columns\n",
    "* Reorder the columns\n",
    "* Drop the empty `filters` column\n",
    "* Make the values in the `young_present` column proper booleans, preserving NaNs for missing data"
   ]
  },
  {
   "cell_type": "code",
   "execution_count": 96,
   "metadata": {},
   "outputs": [],
   "source": [
    "final_annotations_df = annotations_df.rename(columns={\n",
    "    'ARETHEREANYYOUNGPRESENT': 'young_present',\n",
    "    'HOWMANY': 'how_many',\n",
    "    'WHATBEHAVIORSDOYOUSEE': 'behaviors_seen'\n",
    "}).reindex(columns=['classification_id', 'choice', 'how_many', 'behaviors_seen', 'young_present'])\n",
    "final_annotations_df['young_present'] = final_annotations_df.young_present.apply(lambda x: x if pd.isna(x) else x == 'YES')"
   ]
  },
  {
   "cell_type": "code",
   "execution_count": 97,
   "metadata": {},
   "outputs": [
    {
     "data": {
      "text/html": [
       "<div>\n",
       "<style scoped>\n",
       "    .dataframe tbody tr th:only-of-type {\n",
       "        vertical-align: middle;\n",
       "    }\n",
       "\n",
       "    .dataframe tbody tr th {\n",
       "        vertical-align: top;\n",
       "    }\n",
       "\n",
       "    .dataframe thead th {\n",
       "        text-align: right;\n",
       "    }\n",
       "</style>\n",
       "<table border=\"1\" class=\"dataframe\">\n",
       "  <thead>\n",
       "    <tr style=\"text-align: right;\">\n",
       "      <th></th>\n",
       "      <th>classification_id</th>\n",
       "      <th>choice</th>\n",
       "      <th>how_many</th>\n",
       "      <th>behaviors_seen</th>\n",
       "      <th>young_present</th>\n",
       "    </tr>\n",
       "  </thead>\n",
       "  <tbody>\n",
       "    <tr>\n",
       "      <th>4524</th>\n",
       "      <td>87927318</td>\n",
       "      <td>NOTHINGHERE</td>\n",
       "      <td>NaN</td>\n",
       "      <td>NaN</td>\n",
       "      <td>NaN</td>\n",
       "    </tr>\n",
       "    <tr>\n",
       "      <th>4525</th>\n",
       "      <td>87927343</td>\n",
       "      <td>BEAR</td>\n",
       "      <td>1.0</td>\n",
       "      <td>[STANDING]</td>\n",
       "      <td>False</td>\n",
       "    </tr>\n",
       "    <tr>\n",
       "      <th>4526</th>\n",
       "      <td>87927361</td>\n",
       "      <td>DEER</td>\n",
       "      <td>1.0</td>\n",
       "      <td>[MOVING]</td>\n",
       "      <td>False</td>\n",
       "    </tr>\n",
       "    <tr>\n",
       "      <th>4527</th>\n",
       "      <td>87927425</td>\n",
       "      <td>LARGEBIRD</td>\n",
       "      <td>1.0</td>\n",
       "      <td>[MOVING]</td>\n",
       "      <td>False</td>\n",
       "    </tr>\n",
       "    <tr>\n",
       "      <th>4528</th>\n",
       "      <td>87927435</td>\n",
       "      <td>IMNOTSURE</td>\n",
       "      <td>NaN</td>\n",
       "      <td>NaN</td>\n",
       "      <td>NaN</td>\n",
       "    </tr>\n",
       "  </tbody>\n",
       "</table>\n",
       "</div>"
      ],
      "text/plain": [
       "      classification_id       choice  how_many behaviors_seen young_present\n",
       "4524           87927318  NOTHINGHERE       NaN            NaN           NaN\n",
       "4525           87927343         BEAR       1.0     [STANDING]         False\n",
       "4526           87927361         DEER       1.0       [MOVING]         False\n",
       "4527           87927425    LARGEBIRD       1.0       [MOVING]         False\n",
       "4528           87927435    IMNOTSURE       NaN            NaN           NaN"
      ]
     },
     "execution_count": 97,
     "metadata": {},
     "output_type": "execute_result"
    }
   ],
   "source": [
    "final_annotations_df.tail(5)"
   ]
  },
  {
   "cell_type": "markdown",
   "metadata": {},
   "source": [
    "Done. Now I can easily query the DataFrame to answer questions like, how many time did users believe young were present?"
   ]
  },
  {
   "cell_type": "code",
   "execution_count": 98,
   "metadata": {},
   "outputs": [
    {
     "data": {
      "text/plain": [
       "False    1626\n",
       "True       69\n",
       "Name: young_present, dtype: int64"
      ]
     },
     "execution_count": 98,
     "metadata": {},
     "output_type": "execute_result"
    }
   ],
   "source": [
    "final_annotations_df.young_present.value_counts()"
   ]
  },
  {
   "cell_type": "markdown",
   "metadata": {},
   "source": [
    "What species of young did annotators believe they saw?"
   ]
  },
  {
   "cell_type": "code",
   "execution_count": 99,
   "metadata": {},
   "outputs": [
    {
     "data": {
      "text/plain": [
       "BEAR                        48\n",
       "INSECTORSPIDER               5\n",
       "DEER                         4\n",
       "REDWOLF                      3\n",
       "SMALLBIRD                    3\n",
       "OPOSSUM                      2\n",
       "RACCOON                      1\n",
       "COYOTE                       1\n",
       "LARGEBIRD                    1\n",
       "FROGTOADOROTHERAMPHIBIAN     1\n",
       "Name: choice, dtype: int64"
      ]
     },
     "execution_count": 99,
     "metadata": {},
     "output_type": "execute_result"
    }
   ],
   "source": [
    "df = final_annotations_df.dropna()\n",
    "df[df.young_present]['choice'].value_counts()"
   ]
  },
  {
   "cell_type": "markdown",
   "metadata": {},
   "source": [
    "How many times did people think they saw more than one red wolf together?"
   ]
  },
  {
   "cell_type": "code",
   "execution_count": 102,
   "metadata": {},
   "outputs": [
    {
     "data": {
      "text/html": [
       "<div>\n",
       "<style scoped>\n",
       "    .dataframe tbody tr th:only-of-type {\n",
       "        vertical-align: middle;\n",
       "    }\n",
       "\n",
       "    .dataframe tbody tr th {\n",
       "        vertical-align: top;\n",
       "    }\n",
       "\n",
       "    .dataframe thead th {\n",
       "        text-align: right;\n",
       "    }\n",
       "</style>\n",
       "<table border=\"1\" class=\"dataframe\">\n",
       "  <thead>\n",
       "    <tr style=\"text-align: right;\">\n",
       "      <th></th>\n",
       "      <th>classification_id</th>\n",
       "      <th>choice</th>\n",
       "      <th>how_many</th>\n",
       "      <th>behaviors_seen</th>\n",
       "      <th>young_present</th>\n",
       "    </tr>\n",
       "  </thead>\n",
       "  <tbody>\n",
       "    <tr>\n",
       "      <th>1378</th>\n",
       "      <td>74012494</td>\n",
       "      <td>REDWOLF</td>\n",
       "      <td>6.0</td>\n",
       "      <td>[STANDING]</td>\n",
       "      <td>NaN</td>\n",
       "    </tr>\n",
       "    <tr>\n",
       "      <th>2389</th>\n",
       "      <td>74441376</td>\n",
       "      <td>REDWOLF</td>\n",
       "      <td>4.0</td>\n",
       "      <td>[STANDING]</td>\n",
       "      <td>True</td>\n",
       "    </tr>\n",
       "  </tbody>\n",
       "</table>\n",
       "</div>"
      ],
      "text/plain": [
       "      classification_id   choice  how_many behaviors_seen young_present\n",
       "1378           74012494  REDWOLF       6.0     [STANDING]           NaN\n",
       "2389           74441376  REDWOLF       4.0     [STANDING]          True"
      ]
     },
     "execution_count": 102,
     "metadata": {},
     "output_type": "execute_result"
    }
   ],
   "source": [
    "df = final_annotations_df\n",
    "df[df.choice.str.contains('WOLF') & (df.how_many > 1)]"
   ]
  },
  {
   "cell_type": "markdown",
   "metadata": {},
   "source": [
    "## Join on classification ID"
   ]
  },
  {
   "cell_type": "markdown",
   "metadata": {},
   "source": [
    "I mentioned at the top that I'd really love to see the images associated with each response. I know I can show images in my notebook with Jupyter. I know the datset has a subject image filename per row. And I know I can join my new annotation DataFrame with the original based on the classification ID."
   ]
  },
  {
   "cell_type": "code",
   "execution_count": 111,
   "metadata": {},
   "outputs": [],
   "source": [
    "subject_df = latest_df[['classification_id', 'subject_ids', 'subject_data']].copy()\n",
    "# the apply() function here should probably be split up; it's messy!\n",
    "subject_df['subject_data'] = subject_df.subject_data.apply(lambda x: list(json.loads(x).values())[0]['Filename'])"
   ]
  },
  {
   "cell_type": "code",
   "execution_count": 114,
   "metadata": {},
   "outputs": [
    {
     "data": {
      "text/html": [
       "<div>\n",
       "<style scoped>\n",
       "    .dataframe tbody tr th:only-of-type {\n",
       "        vertical-align: middle;\n",
       "    }\n",
       "\n",
       "    .dataframe tbody tr th {\n",
       "        vertical-align: top;\n",
       "    }\n",
       "\n",
       "    .dataframe thead th {\n",
       "        text-align: right;\n",
       "    }\n",
       "</style>\n",
       "<table border=\"1\" class=\"dataframe\">\n",
       "  <thead>\n",
       "    <tr style=\"text-align: right;\">\n",
       "      <th></th>\n",
       "      <th>classification_id</th>\n",
       "      <th>subject_ids</th>\n",
       "      <th>subject_data</th>\n",
       "      <th>choice</th>\n",
       "      <th>how_many</th>\n",
       "      <th>behaviors_seen</th>\n",
       "      <th>young_present</th>\n",
       "    </tr>\n",
       "  </thead>\n",
       "  <tbody>\n",
       "    <tr>\n",
       "      <th>2033</th>\n",
       "      <td>74315250</td>\n",
       "      <td>10710105</td>\n",
       "      <td>mfdc7605_29515370606_o.jpg</td>\n",
       "      <td>IMNOTSURE</td>\n",
       "      <td>NaN</td>\n",
       "      <td>NaN</td>\n",
       "      <td>NaN</td>\n",
       "    </tr>\n",
       "    <tr>\n",
       "      <th>2867</th>\n",
       "      <td>78454464</td>\n",
       "      <td>10710126</td>\n",
       "      <td>mfdc7681_28924143084_o.jpg</td>\n",
       "      <td>BEAR</td>\n",
       "      <td>1.0</td>\n",
       "      <td>[STANDING]</td>\n",
       "      <td>False</td>\n",
       "    </tr>\n",
       "    <tr>\n",
       "      <th>1085</th>\n",
       "      <td>73854414</td>\n",
       "      <td>10710556</td>\n",
       "      <td>mfdc8982_35101386705_o.jpg</td>\n",
       "      <td>BEAR</td>\n",
       "      <td>1.0</td>\n",
       "      <td>[RESTING, STANDING]</td>\n",
       "      <td>False</td>\n",
       "    </tr>\n",
       "    <tr>\n",
       "      <th>3759</th>\n",
       "      <td>85603981</td>\n",
       "      <td>10710430</td>\n",
       "      <td>mfdc8777_34291389543_o.jpg</td>\n",
       "      <td>IMNOTSURE</td>\n",
       "      <td>NaN</td>\n",
       "      <td>NaN</td>\n",
       "      <td>NaN</td>\n",
       "    </tr>\n",
       "    <tr>\n",
       "      <th>1791</th>\n",
       "      <td>74304576</td>\n",
       "      <td>10722936</td>\n",
       "      <td>MFDC3070.jpg</td>\n",
       "      <td>DEER</td>\n",
       "      <td>1.0</td>\n",
       "      <td>[MOVING]</td>\n",
       "      <td>False</td>\n",
       "    </tr>\n",
       "    <tr>\n",
       "      <th>2874</th>\n",
       "      <td>78454506</td>\n",
       "      <td>10723031</td>\n",
       "      <td>MFDC4056.jpg</td>\n",
       "      <td>DEER</td>\n",
       "      <td>1.0</td>\n",
       "      <td>[MOVING, STANDING]</td>\n",
       "      <td>False</td>\n",
       "    </tr>\n",
       "    <tr>\n",
       "      <th>407</th>\n",
       "      <td>69134173</td>\n",
       "      <td>10710584</td>\n",
       "      <td>mfdc9048_35101385805_o.jpg</td>\n",
       "      <td>BEAR</td>\n",
       "      <td>1.0</td>\n",
       "      <td>[MOVING]</td>\n",
       "      <td>False</td>\n",
       "    </tr>\n",
       "    <tr>\n",
       "      <th>4003</th>\n",
       "      <td>85803769</td>\n",
       "      <td>10710319</td>\n",
       "      <td>mfdc8512_34291393593_o.jpg</td>\n",
       "      <td>NOTHINGHERE</td>\n",
       "      <td>NaN</td>\n",
       "      <td>NaN</td>\n",
       "      <td>NaN</td>\n",
       "    </tr>\n",
       "    <tr>\n",
       "      <th>3715</th>\n",
       "      <td>85553879</td>\n",
       "      <td>10710074</td>\n",
       "      <td>mfdc7579_29515372636_o.jpg</td>\n",
       "      <td>IMNOTSURE</td>\n",
       "      <td>NaN</td>\n",
       "      <td>NaN</td>\n",
       "      <td>NaN</td>\n",
       "    </tr>\n",
       "    <tr>\n",
       "      <th>3208</th>\n",
       "      <td>78456276</td>\n",
       "      <td>10710590</td>\n",
       "      <td>mfdc9076_35101385715_o.jpg</td>\n",
       "      <td>BEAR</td>\n",
       "      <td>1.0</td>\n",
       "      <td>[INTERACTING]</td>\n",
       "      <td>False</td>\n",
       "    </tr>\n",
       "    <tr>\n",
       "      <th>1510</th>\n",
       "      <td>74028472</td>\n",
       "      <td>10710501</td>\n",
       "      <td>mfdc8908_34291386243_o.jpg</td>\n",
       "      <td>IMNOTSURE</td>\n",
       "      <td>NaN</td>\n",
       "      <td>NaN</td>\n",
       "      <td>NaN</td>\n",
       "    </tr>\n",
       "    <tr>\n",
       "      <th>3730</th>\n",
       "      <td>85554074</td>\n",
       "      <td>10722920</td>\n",
       "      <td>MFDC3090.jpg</td>\n",
       "      <td>BOBCAT</td>\n",
       "      <td>1.0</td>\n",
       "      <td>[MOVING]</td>\n",
       "      <td>False</td>\n",
       "    </tr>\n",
       "    <tr>\n",
       "      <th>1132</th>\n",
       "      <td>73861737</td>\n",
       "      <td>10709964</td>\n",
       "      <td>mfdc7324_29259617130_o.jpg</td>\n",
       "      <td>IMNOTSURE</td>\n",
       "      <td>NaN</td>\n",
       "      <td>NaN</td>\n",
       "      <td>NaN</td>\n",
       "    </tr>\n",
       "    <tr>\n",
       "      <th>1028</th>\n",
       "      <td>73810117</td>\n",
       "      <td>10723028</td>\n",
       "      <td>MFDC4054.jpg</td>\n",
       "      <td>IMNOTSURE</td>\n",
       "      <td>NaN</td>\n",
       "      <td>NaN</td>\n",
       "      <td>NaN</td>\n",
       "    </tr>\n",
       "    <tr>\n",
       "      <th>2053</th>\n",
       "      <td>74315563</td>\n",
       "      <td>10710192</td>\n",
       "      <td>mfdc7918_28926511773_o.jpg</td>\n",
       "      <td>NOTHINGHERE</td>\n",
       "      <td>NaN</td>\n",
       "      <td>NaN</td>\n",
       "      <td>NaN</td>\n",
       "    </tr>\n",
       "    <tr>\n",
       "      <th>728</th>\n",
       "      <td>70130277</td>\n",
       "      <td>10710305</td>\n",
       "      <td>mfdc8429_34714486570_o.jpg</td>\n",
       "      <td>IMNOTSURE</td>\n",
       "      <td>NaN</td>\n",
       "      <td>NaN</td>\n",
       "      <td>NaN</td>\n",
       "    </tr>\n",
       "    <tr>\n",
       "      <th>4418</th>\n",
       "      <td>86309170</td>\n",
       "      <td>10710055</td>\n",
       "      <td>mfdc7564_29515374296_o.jpg</td>\n",
       "      <td>IMNOTSURE</td>\n",
       "      <td>NaN</td>\n",
       "      <td>NaN</td>\n",
       "      <td>NaN</td>\n",
       "    </tr>\n",
       "    <tr>\n",
       "      <th>3782</th>\n",
       "      <td>85604820</td>\n",
       "      <td>10722881</td>\n",
       "      <td>MFDC2171.jpg</td>\n",
       "      <td>BEAR</td>\n",
       "      <td>2.0</td>\n",
       "      <td>[STANDING, MOVING]</td>\n",
       "      <td>NaN</td>\n",
       "    </tr>\n",
       "    <tr>\n",
       "      <th>1399</th>\n",
       "      <td>74015219</td>\n",
       "      <td>10709973</td>\n",
       "      <td>mfdc7330_29515380126_o.jpg</td>\n",
       "      <td>IMNOTSURE</td>\n",
       "      <td>NaN</td>\n",
       "      <td>NaN</td>\n",
       "      <td>NaN</td>\n",
       "    </tr>\n",
       "    <tr>\n",
       "      <th>944</th>\n",
       "      <td>73806542</td>\n",
       "      <td>10710368</td>\n",
       "      <td>mfdc8612_34936909952_o.jpg</td>\n",
       "      <td>IMNOTSURE</td>\n",
       "      <td>NaN</td>\n",
       "      <td>NaN</td>\n",
       "      <td>NaN</td>\n",
       "    </tr>\n",
       "  </tbody>\n",
       "</table>\n",
       "</div>"
      ],
      "text/plain": [
       "      classification_id  subject_ids                subject_data       choice  \\\n",
       "2033           74315250     10710105  mfdc7605_29515370606_o.jpg    IMNOTSURE   \n",
       "2867           78454464     10710126  mfdc7681_28924143084_o.jpg         BEAR   \n",
       "1085           73854414     10710556  mfdc8982_35101386705_o.jpg         BEAR   \n",
       "3759           85603981     10710430  mfdc8777_34291389543_o.jpg    IMNOTSURE   \n",
       "1791           74304576     10722936                MFDC3070.jpg         DEER   \n",
       "2874           78454506     10723031                MFDC4056.jpg         DEER   \n",
       "407            69134173     10710584  mfdc9048_35101385805_o.jpg         BEAR   \n",
       "4003           85803769     10710319  mfdc8512_34291393593_o.jpg  NOTHINGHERE   \n",
       "3715           85553879     10710074  mfdc7579_29515372636_o.jpg    IMNOTSURE   \n",
       "3208           78456276     10710590  mfdc9076_35101385715_o.jpg         BEAR   \n",
       "1510           74028472     10710501  mfdc8908_34291386243_o.jpg    IMNOTSURE   \n",
       "3730           85554074     10722920                MFDC3090.jpg       BOBCAT   \n",
       "1132           73861737     10709964  mfdc7324_29259617130_o.jpg    IMNOTSURE   \n",
       "1028           73810117     10723028                MFDC4054.jpg    IMNOTSURE   \n",
       "2053           74315563     10710192  mfdc7918_28926511773_o.jpg  NOTHINGHERE   \n",
       "728            70130277     10710305  mfdc8429_34714486570_o.jpg    IMNOTSURE   \n",
       "4418           86309170     10710055  mfdc7564_29515374296_o.jpg    IMNOTSURE   \n",
       "3782           85604820     10722881                MFDC2171.jpg         BEAR   \n",
       "1399           74015219     10709973  mfdc7330_29515380126_o.jpg    IMNOTSURE   \n",
       "944            73806542     10710368  mfdc8612_34936909952_o.jpg    IMNOTSURE   \n",
       "\n",
       "      how_many       behaviors_seen young_present  \n",
       "2033       NaN                  NaN           NaN  \n",
       "2867       1.0           [STANDING]         False  \n",
       "1085       1.0  [RESTING, STANDING]         False  \n",
       "3759       NaN                  NaN           NaN  \n",
       "1791       1.0             [MOVING]         False  \n",
       "2874       1.0   [MOVING, STANDING]         False  \n",
       "407        1.0             [MOVING]         False  \n",
       "4003       NaN                  NaN           NaN  \n",
       "3715       NaN                  NaN           NaN  \n",
       "3208       1.0        [INTERACTING]         False  \n",
       "1510       NaN                  NaN           NaN  \n",
       "3730       1.0             [MOVING]         False  \n",
       "1132       NaN                  NaN           NaN  \n",
       "1028       NaN                  NaN           NaN  \n",
       "2053       NaN                  NaN           NaN  \n",
       "728        NaN                  NaN           NaN  \n",
       "4418       NaN                  NaN           NaN  \n",
       "3782       2.0   [STANDING, MOVING]           NaN  \n",
       "1399       NaN                  NaN           NaN  \n",
       "944        NaN                  NaN           NaN  "
      ]
     },
     "execution_count": 114,
     "metadata": {},
     "output_type": "execute_result"
    }
   ],
   "source": [
    "subject_annotation_df = pd.merge(subject_df, final_annotations_df, how='outer', left_on='classification_id', right_on='classification_id')\n",
    "subject_annotation_df.sample(20)"
   ]
  },
  {
   "cell_type": "markdown",
   "metadata": {},
   "source": [
    "The link I'm missing is how I might use the image filenames or subject ID to resolve an image stored on the Zooniverse site. I see that when I'm classifying images, the page points to images using URLs like https://panoptes-uploads.zooniverse.org/production/subject_location/4ff121d7-13f2-47b2-86ea-dfdfc92c953d.jpeg but I don't know how to lookup or formulate an image name like that."
   ]
  }
 ],
 "metadata": {
  "kernelspec": {
   "display_name": "Python 3",
   "language": "python",
   "name": "python3"
  },
  "language_info": {
   "codemirror_mode": {
    "name": "ipython",
    "version": 3
   },
   "file_extension": ".py",
   "mimetype": "text/x-python",
   "name": "python",
   "nbconvert_exporter": "python",
   "pygments_lexer": "ipython3",
   "version": "3.6.4"
  }
 },
 "nbformat": 4,
 "nbformat_minor": 2
}
